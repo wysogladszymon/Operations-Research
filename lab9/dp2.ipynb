{
 "cells": [
  {
   "cell_type": "markdown",
   "metadata": {},
   "source": [
    "## Programowanie dynamiczne – Wyznaczanie optymalnej wielkości partii produkcyjnej\n",
    "### Szymon Wysogląd"
   ]
  },
  {
   "cell_type": "code",
   "execution_count": 1,
   "metadata": {},
   "outputs": [],
   "source": [
    "import numpy as np\n",
    "import pandas as pd"
   ]
  },
  {
   "cell_type": "markdown",
   "metadata": {},
   "source": [
    "### Zadanie 1"
   ]
  },
  {
   "cell_type": "code",
   "execution_count": 2,
   "metadata": {},
   "outputs": [],
   "source": [
    "class Magazine:\n",
    "  def __init__(self, minY, maxY, y0, yEnd, n, g, h, q):\n",
    "    self.minY = minY\n",
    "    self.maxY = maxY\n",
    "    self.y0 = y0\n",
    "    self.yEnd = yEnd\n",
    "    self.n = n\n",
    "    self.g = g # koszty produkcji\n",
    "    self.h = h # koszty magazynowania\n",
    "    self.q = q # liczba potrzebnych sztuk do oddania\n",
    "    self.ammounts = np.ones((maxY - minY + 1, n + 1)) * np.inf\n",
    "    self.costs = np.ones((maxY - minY + 1, n + 1)) * np.inf\n",
    "    self.maxProd = max(g)\n",
    "    self.showInput()\n",
    "  \n",
    "  def __findMin(self, i, x):\n",
    "    y = i + self.minY\n",
    "    minF = np.inf\n",
    "    minAmmount = np.inf\n",
    "    sold = self.q[x]\n",
    "    # jeżeli w maagzynie potrzebujemy więcej zwróc inf, czyli, że niemożliwe\n",
    "    if x != self.n and y < self.q[x+1]:\n",
    "      return np.inf, np.inf\n",
    "    # jeżeli jest to ostatnia kolejka, to interesuje nas tylko yEnd, żeby zostało\n",
    "    if x == self.n and y != self.yEnd:\n",
    "      return np.inf, np.inf\n",
    "    for j in range(y+1):\n",
    "      # potrzebujemy y produktów, z czego j produkujemy w tym miesiącu,\n",
    "      # sold wyprzedaliśmy, więc w tamtym miesiącu w magazynie musiało być y - j + sold\n",
    "      ySearch = y - j + sold\n",
    "      # jeżeli potrzebowalibyśmy zbyt mało lub zbyt wiele z poprzedniego miesiąca\n",
    "      if ySearch < self.minY or ySearch > self.maxY or j > self.maxProd:\n",
    "        continue\n",
    "      index = ySearch - self.minY\n",
    "      # f to: wczesniejszy koszt,  h - przechowywanie, g - cena produkcji \n",
    "      f = self.costs[index, x - 1] + self.h[y] + self.g[j]\n",
    "      if f < minF:\n",
    "        minF = f\n",
    "        minAmmount = j\n",
    "    return minF, minAmmount\n",
    "  \n",
    "  def dp(self):\n",
    "    # uzupełnienie pierwszej kolumny\n",
    "    Y,X = self.costs.shape\n",
    "    # pierwsza kolumna określa warunki początkowe\n",
    "    self.costs[self.y0 - self.minY, 0] = 0\n",
    "    self.ammounts[self.y0 - self.minY, 0] = self.y0\n",
    "    \n",
    "    # pierwszy miesiąc\n",
    "    lastMonth = self.y0 - self.q[1] \n",
    "    for i in range(Y):\n",
    "      y = i + self.minY\n",
    "      self.ammounts[i, 1] = y - lastMonth\n",
    "      self.costs[i, 1] = self.h[y] + self.g[y - lastMonth]\n",
    "    # zaczynamy od drugiego miesiąca\n",
    "    for x in range(2, X):\n",
    "      for i in range(Y):\n",
    "        minF, minAmmount = self.__findMin(i, x)\n",
    "        self.costs[i, x] = minF\n",
    "        self.ammounts[i, x] = minAmmount\n",
    "    \n",
    "  def getSollution(self):\n",
    "    Y, X = self.costs.shape \n",
    "    index = self.yEnd - self.minY\n",
    "    cost = self.costs[index, -1]\n",
    "    sollution = {}\n",
    "    # przechodzimy od końca\n",
    "    for x in range(0,X)[::-1]:\n",
    "      sollution[x] = self.ammounts[index, x]  \n",
    "      if x > 0:\n",
    "        index =int( index + self.q[x] - self.ammounts[index, x])\n",
    "    return sollution, cost\n",
    "  \n",
    "  def solve(self):\n",
    "    self.dp()\n",
    "    sollution, cost = self.getSollution()\n",
    "    \n",
    "    # Wizualizacja danych\n",
    "    print(f'Macierz kosztów:')\n",
    "    rowHeaders = [x for x in range(self.minY, self.maxY + 1)]\n",
    "    colHeaders = [f'x{i}' for i in range(0, self.n + 1)]\n",
    "    df = pd.DataFrame(self.costs, columns=colHeaders, index=rowHeaders)\n",
    "    print(df,'\\n')\n",
    "    print(f'Optymalna macierz produkcji w danym miesiącu:')\n",
    "    df = pd.DataFrame(self.ammounts, columns=colHeaders, index=rowHeaders)\n",
    "    print(df,'\\n')\n",
    "    print(f'Liczba potrzebnych sztuk do dostarczenia w każdym miesiącu:')\n",
    "    print(sollution)\n",
    "    print(f'Koszt całkowity: {cost} zł')\n",
    "    \n",
    "    \n",
    "  def showInput(self):\n",
    "    print(f'Stan początkowy: {self.y0}')\n",
    "    print(f'Stan końcowy: {self.yEnd}')\n",
    "    print(f'Liczba miesięcy: {self.n}')\n",
    "    print(f'Koszty produkcji:')\n",
    "    rowHeaders = [x for x in range(0, self.maxProd + 1)]\n",
    "    colHeaders = ['g(xi)[zł]']\n",
    "    data = [x for _, x in self.g.items()]\n",
    "    df = pd.DataFrame(np.array(data).T, columns=colHeaders, index=rowHeaders)\n",
    "    print(df,'\\n')\n",
    "    print(f'Koszty magazynowania:')\n",
    "    rowHeaders = [x for x in range(self.minY, self.maxY + 1)]\n",
    "    colHeaders = ['h(yi)[zł]']\n",
    "    data = [x for _, x in self.h.items()]\n",
    "    df = pd.DataFrame(np.array(data).T, columns=colHeaders, index=rowHeaders)\n",
    "    print(df,'\\n')\n",
    "    print(f'Liczba potrzebnych sztuk do dostarczenia:')\n",
    "    rowHeaders = [x for x in range(1, self.n + 1)]\n",
    "    colHeaders = ['q(i)[szt]']\n",
    "    data = [x for _, x in self.q.items()]\n",
    "    df = pd.DataFrame(np.array(data).T, columns=colHeaders, index=rowHeaders)\n",
    "    print(df,'\\n')"
   ]
  },
  {
   "cell_type": "code",
   "execution_count": 3,
   "metadata": {},
   "outputs": [],
   "source": [
    "def test1():\n",
    "  # koszt produkcji\n",
    "  g = {0 : 2, 1 : 8, 2 : 12, 3 : 15, 4 : 17, 5 : 20}\n",
    "  # koszt składowania\n",
    "  h = {3 : 1, 4 : 1, 5 : 2, 6 : 4}\n",
    "  # liczba sztuk do wyprodukowania\n",
    "  q = {1 : 4, 2 : 2, 3 : 6, 4 : 5}\n",
    "  minY = 3\n",
    "  maxY = 6\n",
    "  y0 = 6\n",
    "  yEnd = 3\n",
    "  n = 4\n",
    "  m = Magazine(minY,maxY, y0, yEnd, n, g, h, q)\n",
    "  m.dp()"
   ]
  },
  {
   "cell_type": "markdown",
   "metadata": {},
   "source": [
    "#### Definicja zadania dla 6-miesięcznego okresu planowania"
   ]
  },
  {
   "cell_type": "code",
   "execution_count": 4,
   "metadata": {},
   "outputs": [
    {
     "name": "stdout",
     "output_type": "stream",
     "text": [
      "Stan początkowy: 7\n",
      "Stan końcowy: 6\n",
      "Liczba miesięcy: 6\n",
      "Koszty produkcji:\n",
      "   g(xi)[zł]\n",
      "0          2\n",
      "1          8\n",
      "2         12\n",
      "3         15\n",
      "4         17\n",
      "5         20\n",
      "6         22\n",
      "7         24\n",
      "8         25 \n",
      "\n",
      "Koszty magazynowania:\n",
      "   h(yi)[zł]\n",
      "3          1\n",
      "4          1\n",
      "5          2\n",
      "6          4\n",
      "7          5\n",
      "8          5 \n",
      "\n",
      "Liczba potrzebnych sztuk do dostarczenia:\n",
      "   q(i)[szt]\n",
      "1          4\n",
      "2          2\n",
      "3          6\n",
      "4          5\n",
      "5          3\n",
      "6          4 \n",
      "\n"
     ]
    }
   ],
   "source": [
    "g = {0 : 2, 1 : 8, 2 : 12, 3 : 15, 4 : 17, 5 : 20, 6:22, 7:24, 8:25}\n",
    "# koszt składowania\n",
    "h = {3 : 1, 4 : 1, 5 : 2, 6 : 4, 7:5, 8:5}\n",
    "# liczba sztuk do wyprodukowania\n",
    "q = {1 : 4, 2 : 2, 3 : 6, 4 : 5, 5: 3, 6: 4}\n",
    "minY = 3\n",
    "maxY = 8\n",
    "y0 = 7\n",
    "yEnd = 6\n",
    "n = 6\n",
    "m = Magazine(minY,maxY, y0, yEnd, n, g, h, q)"
   ]
  },
  {
   "cell_type": "markdown",
   "metadata": {},
   "source": [
    "### Zadanie 2"
   ]
  },
  {
   "cell_type": "code",
   "execution_count": 5,
   "metadata": {},
   "outputs": [
    {
     "name": "stdout",
     "output_type": "stream",
     "text": [
      "Macierz kosztów:\n",
      "    x0    x1    x2    x3    x4    x5     x6\n",
      "3  inf   3.0   inf   inf  60.0   inf    inf\n",
      "4  inf   9.0   inf   inf  66.0  78.0    inf\n",
      "5  inf  14.0   inf  49.0  71.0  82.0    inf\n",
      "6  inf  19.0  27.0  53.0  75.0  86.0  104.0\n",
      "7  0.0  22.0  30.0  56.0  78.0  89.0    inf\n",
      "8  inf  25.0  32.0  57.0  79.0  90.0    inf \n",
      "\n",
      "Optymalna macierz produkcji w danym miesiącu:\n",
      "    x0   x1   x2   x3   x4   x5   x6\n",
      "3  inf  0.0  inf  inf  0.0  inf  inf\n",
      "4  inf  1.0  inf  inf  1.0  4.0  inf\n",
      "5  inf  2.0  inf  3.0  2.0  5.0  inf\n",
      "6  inf  3.0  5.0  4.0  6.0  6.0  6.0\n",
      "7  7.0  4.0  6.0  7.0  7.0  7.0  inf\n",
      "8  inf  5.0  7.0  8.0  8.0  8.0  inf \n",
      "\n",
      "Liczba potrzebnych sztuk do dostarczenia w każdym miesiącu:\n",
      "{6: 6.0, 5: 4.0, 4: 0.0, 3: 8.0, 2: 5.0, 1: 0.0, 0: 7.0}\n",
      "Koszt całkowity: 104.0 zł\n"
     ]
    }
   ],
   "source": [
    "m.solve()"
   ]
  },
  {
   "cell_type": "markdown",
   "metadata": {},
   "source": [
    "### Zadanie 3"
   ]
  },
  {
   "cell_type": "markdown",
   "metadata": {},
   "source": [
    "#### Modyfikacje Zagadnienia\n",
    "* Dynamiczne zapotrzebowanie i zmienne ceny: Wprowadzenie dynamicznych cen produkcji oraz kosztów magazynowania w zależności od pory roku lub sytuacji rynkowej. Zapotrzebowanie na produkty może także zmieniać się w zależności od miesiąca, co wprowadza dodatkową warstwę realności.\n",
    "\n",
    "* Przerwy produkcyjne i awarie: Model może uwzględniać nieplanowane przerwy w produkcji (np. awarie maszyn), co wpływa na możliwości produkcyjne w danym okresie.\n",
    "\n",
    "* Minimalne i maksymalne wielkości produkcji: Wprowadzenie ograniczeń dotyczących minimalnej i maksymalnej produkcji, które mogą być wymagane ze względów technologicznych lub rynkowych.\n",
    "\n",
    "* Wieloetapowy proces produkcyjny: Rozszerzenie modelu o możliwość obliczeń dla wieloetapowych procesów produkcyjnych, gdzie produkty mogą przechodzić przez różne fazy produkcji z różnymi kosztami i czasami wykonania.\n",
    "\n",
    "* Różnorodność produktów: Modelowanie sytuacji, w której firma produkuje więcej niż jeden rodzaj produktu, z możliwością przechowywania różnych produktów, które mogą mieć różne wymagania dotyczące magazynowania i sprzedaży.\n",
    "\n",
    "* Optymalizacja transportu: Uwzględnienie kosztów transportu między różnymi lokalizacjami produkcji a magazynami, a także kosztów dystrybucji do klientów.\n",
    "\n",
    "* Zmienne warunki początkowe i końcowe: Możliwość modyfikacji stanów początkowych i końcowych w magazynie w odpowiedzi na zmieniające się warunki rynkowe.\n",
    "\n"
   ]
  },
  {
   "cell_type": "markdown",
   "metadata": {},
   "source": [
    "#### Złożoność oblczeniowa\n",
    "Dla każdego miesiąca badamy wszystkie możliwe zapełnienia magazynu, gdzie aby uzyskać maksymalne zapełnienie magazynu, musimy przejrzeć wszystkie możliwe zapełnienia magazynu dla poprzedniego miesiąca. Złożoność obliczeniowa wynosi $$ O(n \\cdot (\\Delta y)^2)$$"
   ]
  }
 ],
 "metadata": {
  "kernelspec": {
   "display_name": "Python 3 (ipykernel)",
   "language": "python",
   "name": "python3"
  },
  "language_info": {
   "codemirror_mode": {
    "name": "ipython",
    "version": 3
   },
   "file_extension": ".py",
   "mimetype": "text/x-python",
   "name": "python",
   "nbconvert_exporter": "python",
   "pygments_lexer": "ipython3",
   "version": "3.12.0"
  }
 },
 "nbformat": 4,
 "nbformat_minor": 4
}
