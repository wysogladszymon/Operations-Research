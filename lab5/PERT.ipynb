{
 "cells": [
  {
   "cell_type": "markdown",
   "metadata": {},
   "source": [
    "### SZYMON WYSOGLĄD"
   ]
  },
  {
   "cell_type": "markdown",
   "metadata": {},
   "source": [
    "## Programowanie sieciowe – algorytmy CPM, PERT"
   ]
  },
  {
   "cell_type": "code",
   "execution_count": 13,
   "metadata": {},
   "outputs": [],
   "source": [
    "from collections import deque\n",
    "import numpy as np\n",
    "import scipy.stats as stats\n",
    "from typing import List, Tuple\n",
    "import matplotlib.pyplot as plt"
   ]
  },
  {
   "cell_type": "markdown",
   "metadata": {},
   "source": [
    "### Zadanie 1 i 2"
   ]
  },
  {
   "cell_type": "code",
   "execution_count": 14,
   "metadata": {},
   "outputs": [],
   "source": [
    "def calculateT0(tc, tm, tp):\n",
    "  return (tc + 4 * tm + tp) / 6\n",
    "\n",
    "def calculateVariancy(tp, tc):\n",
    "  return (tp - tc) ** 2 / 36\n",
    "\n",
    "def distribuant(X, mu=0, sigma=1):\n",
    "  return stats.norm.cdf(X, mu, sigma)\n",
    "\n",
    "def inverseDistribuant(P, mu=0, sigma=1):\n",
    "  return stats.norm.ppf(P, mu, sigma)"
   ]
  },
  {
   "cell_type": "code",
   "execution_count": 15,
   "metadata": {},
   "outputs": [],
   "source": [
    "# class Node represents activity in the network\n",
    "class Node:\n",
    "  def __init__(self, name, tc, tm, tp):\n",
    "    self.name = name\n",
    "    self.tc = tc\n",
    "    self.tm = tm\n",
    "    self.tp = tp\n",
    "    self.t0 = calculateT0(tc, tm, tp)\n",
    "    self.variancy = calculateVariancy(tp, tc)\n",
    "    self.predecessors = []\n",
    "    self.neighbors = []\n",
    "    self.z = 0\n",
    "    #earliest and latest start and finish times\n",
    "    self.es = 0\n",
    "    self.ef = 0\n",
    "    self.ls = float('inf')\n",
    "    self.lf = float('inf')\n",
    "    \n",
    "  def addPredecessor(self, node):\n",
    "    self.predecessors.append(node)\n",
    "    \n",
    "  def addNeighbor(self, node):\n",
    "    self.neighbors.append(node)\n",
    "    \n",
    "  def __repr__(self):\n",
    "    return f'{self.name}'\n",
    "  \n",
    "  def printStartFinish(self):\n",
    "    print(f'{self.name}: {self.es}/{self.ef}/{self.ls}/{self.lf}')"
   ]
  },
  {
   "cell_type": "code",
   "execution_count": 16,
   "metadata": {},
   "outputs": [],
   "source": [
    "class Graph:\n",
    "  def __init__(self, tasks):\n",
    "    self.tasks = tasks\n",
    "    self.start = tasks[0]\n",
    "    self.end = tasks[-1]\n",
    "    self.criticalPath = []\n",
    "    self.completion = None\n",
    "    \n",
    "  def computeEarliest(self):\n",
    "    # przechodzimy po wszystkich wierzchołkach \"warstwami\" czyli robimy bfs,w którym obliczamy najwcześniejszy czas rozpoczęcia i zakończenia\n",
    "    q = deque()\n",
    "    q.append(self.start)\n",
    "    while q:\n",
    "      node : \"Node\"= q.popleft()\n",
    "      # obliczamy najwcześniejszy czas zakończenia wierzchołka jako maksimum z najwcześniejszych czasów zakończenia jego poprzedników (ponieważ muszą one się zakończyć zanim zacznie się nowe zadanie)\n",
    "      m = 0\n",
    "      for prev in node.predecessors:\n",
    "        if prev.ef > m:\n",
    "          m = prev.ef\n",
    "      # obliczone maksimum zapisujemy jako najwcześniejszy czas rozpoczęcia i na bazie przewidywanego czasu trwania zadania obliczamy najwcześniejszy czas zakończenia\n",
    "      node.es = m\n",
    "      node.ef = m + node.t0\n",
    "      # dodajemy do kolejki sąsiadów wierzchołka  \n",
    "      for neighbor in node.neighbors:\n",
    "        q.append(neighbor)\n",
    "      \n",
    "      # jeżeli dotarliśmy do końca sieci, to zapisujemy czas zakończenia jako czas zakończenia sieci\n",
    "      if node == self.end:\n",
    "        self.completion = node.ef\n",
    "        return self.completion\n",
    "        \n",
    "  def computeLatest(self):\n",
    "    # jest to analogiczny algorytm do obliczania najwcześniejszych czasów, ale tym razem obliczamy najpóźniejsze czasy rozpoczęcia i zakończenia idąc od końca sieci\n",
    "    q = deque()\n",
    "    node = self.end\n",
    "    node.z = 0\n",
    "    node.lf = node.ef\n",
    "    node.ls = node.es\n",
    "    for prev in self.end.predecessors:\n",
    "      q.append(prev)\n",
    "    while q:\n",
    "      node = q.popleft()\n",
    "      m = self.completion\n",
    "      for neighbor in node.neighbors:\n",
    "        if neighbor.ls < m:\n",
    "          m = neighbor.ls\n",
    "      node.lf = m\n",
    "      node.ls = m - node.t0\n",
    "      node.z = (node.ls - node.es) \n",
    "      for prev in node.predecessors:\n",
    "        q.append(prev)\n",
    "    \n",
    "  def PERT(self):\n",
    "    # algorytm PERT wywołuje obliczenie najwcześniejszych i najpóźniejszych czasów rozpoczęcia i zakończenia\n",
    "    self.computeEarliest()\n",
    "    self.computeLatest()\n",
    "    # a następnie wyznacza ścieżkę krytyczną algorytmem dfs, suzkając wierzchołków, których możliwe przesunięcie jest równe 0\n",
    "    node = self.start\n",
    "    path = []\n",
    "    def dfs(node):\n",
    "      nonlocal path\n",
    "      # jezeli dotarliśmy do końca ścieżki, to sprawdzamy czy jest ona dłuższa od dotychczasowej ścieżki krytycznej i ją zapisujemy\n",
    "      if node == self.end:\n",
    "        path.append(node)\n",
    "        if len(path) > len(self.criticalPath):\n",
    "          self.criticalPath = path.copy()\n",
    "        return\n",
    "      # jeżeli wierzchołek ma możliwe przesunięcie równe 0, to dodajemy go do ścieżki i szukamy w jego sąsiedztwie\n",
    "      if node.z == 0:\n",
    "        path.append(node)\n",
    "        for neighbor in node.neighbors:\n",
    "          dfs(neighbor)\n",
    "        path.pop()\n",
    "   \n",
    "    dfs(self.start)\n",
    "    return self.criticalPath\n",
    "  \n",
    "  def totalVariance(self):\n",
    "    # oblicza wariancję całkowitą, jako sumę wariancji wierzchołków w ścieżce krytycznej\n",
    "    return sum([node.variancy for node in self.criticalPath])\n",
    "  \n",
    "  def drawGanttsChart(self):\n",
    "    # Funkcja rysująca wykres Gantta za pomocą biblioteki matplotlib.pyplot\n",
    "    plt.title('Gantt chart')\n",
    "    plt.xlim(0, self.completion + 1)\n",
    "    # rysowanie zadań\n",
    "    for node in self.tasks[::-1]:\n",
    "      for neighbor in node.neighbors:\n",
    "        # dorysowanie przerywanej linii, określającej możliwe przesunięcie zadania oraz zależności między zadaniami\n",
    "        plt.plot([node.ef, neighbor.es], [node.name, node.name], 'r--', linewidth=1)\n",
    "        plt.plot([neighbor.es, neighbor.es], [node.name, neighbor.name], 'r--', linewidth=1)\n",
    "        # dorysowanie linii końcowej zadania\n",
    "      plt.plot([node.es, node.ef], [node.name, node.name], color='skyblue', linewidth=5)\n",
    "    plt.grid(True)\n",
    "    plt.show()\n",
    "    \n",
    "    \n",
    "  def computeTime(self, probability):\n",
    "    return inverseDistribuant(probability, self.completion, np.sqrt(self.totalVariance()))"
   ]
  },
  {
   "cell_type": "code",
   "execution_count": 17,
   "metadata": {},
   "outputs": [
    {
     "name": "stdout",
     "output_type": "stream",
     "text": [
      "Ścieżka krytyczna: [A, C, F, H, J]\n",
      "Czas trwania dla prawdopodobieństwa 0.9 wynosi 81.0\n"
     ]
    },
    {
     "data": {
      "image/png": "[encoded data removed]",
      "text/plain": [
       "<Figure size 640x480 with 1 Axes>"
      ]
     },
     "metadata": {},
     "output_type": "display_data"
    }
   ],
   "source": [
    "def main():\n",
    "  # ustalenie czynosci i ich czasu trwania\n",
    "  tasks : List[\"Node\"]= [\n",
    "      Node('A', 13, 14, 15),\n",
    "      Node('B', 5, 10, 15),\n",
    "      Node('C', 7, 10, 19),\n",
    "      Node('D', 2, 2, 2),\n",
    "      Node('E', 10, 10, 10),\n",
    "      Node('F', 20, 21, 22),\n",
    "      Node('G', 4, 16, 16),\n",
    "      Node('H', 5, 20, 23),\n",
    "      Node('I', 5, 8, 11),\n",
    "      Node('J', 12, 12, 12)\n",
    "    ]\n",
    "  #stworzenie grafu\n",
    "  graph = Graph(tasks)\n",
    "  \n",
    "  # dodanie zaleznosci\n",
    "  edges = [(0,1), (0,2), (0,3), (1,4), (2,5),(2,6),(3,6),(4,8), (5,7), (5,8), (6,7), (8,9), (7,9)]\n",
    "  \n",
    "  #dodanie krawędzi do struktury ścieżki\n",
    "  for prev, next in edges:\n",
    "    tasks[prev].addNeighbor(tasks[next])\n",
    "    tasks[next].addPredecessor(tasks[prev])\n",
    "  \n",
    "  # Obliczenia używając struktury i funkcji opisanych wcześniej\n",
    "  crit = graph.PERT()\n",
    "  print(\"Ścieżka krytyczna:\", crit)\n",
    "  \n",
    "  Probability = 0.9\n",
    "  time = graph.computeTime(Probability)\n",
    "  print(f'Czas trwania dla prawdopodobieństwa {Probability} wynosi {time.round()}')\n",
    "  graph.drawGanttsChart()\n",
    "main()"
   ]
  },
  {
   "cell_type": "markdown",
   "metadata": {},
   "source": [
    "### Zadanie 3\n",
    "Zapas jest interpretowany jako pozioma, czerwona, przerywana linia, następująca po zadaniu."
   ]
  },
  {
   "cell_type": "markdown",
   "metadata": {},
   "source": [
    "### Pomoce i przemyślenia do obliczeń zastosowanych w zadaniach\n",
    "Do obliczenia prawdopodobieństwa należy naszą dystrybuantę przekształcić do dystrybuanty rozkładu normalnego za pomocą wzoru:\n",
    "\n",
    "\\begin{equation}\n",
    "  F(X) = \\Phi( \\frac{X - \\mu}{\\sigma} ) \n",
    "\\end{equation}\n",
    "\n",
    "gdzie, \n",
    "\n",
    "$X = t_d$ czas dyrektywy,\n",
    "\n",
    "$\\mu = t_r$ to czas modelowy ukończenia projektu, \n",
    "\n",
    "$\\sigma = \\sigma_c$ to odchylenie standardowe.\n",
    "\n",
    "Zatem $ t_d $ jest dane wzorem:\n",
    "\\begin{equation}\n",
    "  t_d = X \\cdot \\sigma_c + t_r\n",
    "\\end{equation}\n",
    "Aby prawdopodobieństwo wynosiło 0.9 to, odczytując z tablic:\n",
    "\\begin{equation}\n",
    "  \\Phi(1.28) = 0.8997 \\approx 0.9\n",
    "\\end{equation}\n",
    "Zatem \n",
    "\\begin{equation}\n",
    "  t_d = 1.28 \\cdot \\sigma_c + t_r\n",
    "\\end{equation}\n"
   ]
  },
  {
   "cell_type": "code",
   "execution_count": 18,
   "metadata": {},
   "outputs": [
    {
     "data": {
      "image/png": "[encoded data removed]",
      "text/plain": [
       "<Figure size 640x480 with 1 Axes>"
      ]
     },
     "metadata": {},
     "output_type": "display_data"
    }
   ],
   "source": [
    "P = 0.9\n",
    "xP = inverseDistribuant(P)\n",
    "x = np.linspace(-5, 5, 1000)\n",
    "y = distribuant(x)\n",
    "plt.plot(x, y)\n",
    "plt.plot([xP, xP], [0, P], 'r--')\n",
    "plt.plot(xP, P, 'ro')\n",
    "plt.annotate(f'({xP:.2f}, {P})', (xP, P), textcoords=\"offset points\", xytext=(0,10), ha='center')\n",
    "plt.ylim(0, 1)\n",
    "plt.title('Dystrybuanta rozkładu normalnego')\n",
    "plt.grid(True)\n",
    "plt.show()"
   ]
  },
  {
   "cell_type": "markdown",
   "metadata": {},
   "source": [
    "W moim rozwiązaniu jednak ta analiza nie była konieczna, ponieważ użycie <i>scipy.stats.norm.ppf()</i> pozwala na obliczenie wartości odwrotnej dystrybuanty normalnej o dowolnych parametrach."
   ]
  },
  {
   "cell_type": "markdown",
   "metadata": {},
   "source": [
    "### Źródła\n",
    "\n",
    "Kod był napisany przeze mnie, a swoją wiedzę opierałem o materiały dostępne w internecie, takie jak:\n",
    "\n",
    "<ul>\n",
    "<li><a href=\"http://staff.uz.zgora.pl/mpatan/materialy/badoper/wyklady/druk_6z.pdf\">Maciej Patan, Programowanie sieciowe. Metody CPM i PERT </a></li>\n",
    "<li><a href=\"https://www.youtube.com/watch?v=7qSPc5H7q0E&ab_channel=Jako%C5%9B%C4%87zarz%C4%85dzania\">Wykres Gantta</a></li>\n",
    "<li><a href=\"https://www.youtube.com/watch?v=-TDh-5n90vk&ab_channel=JoshuaEmmanuel\">Project Scheduling - PERT/CPM | Finding Critical Path</a></li>\n",
    "<li><a href=\"https://www.youtube.com/watch?v=LLg_FUvrbG0&ab_channel=EngineerBoyOfficial\">How to use PERT Method ? project management</a></li>\n",
    "\n",
    "<ul>\n"
   ]
  }
 ],
 "metadata": {
  "kernelspec": {
   "display_name": "pyenv",
   "language": "python",
   "name": "python3"
  },
  "language_info": {
   "codemirror_mode": {
    "name": "ipython",
    "version": 3
   },
   "file_extension": ".py",
   "mimetype": "text/x-python",
   "name": "python",
   "nbconvert_exporter": "python",
   "pygments_lexer": "ipython3",
   "version": "3.12.0"
  }
 },
 "nbformat": 4,
 "nbformat_minor": 2
}
