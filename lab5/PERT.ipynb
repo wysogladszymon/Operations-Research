{
 "cells": [
  {
   "cell_type": "markdown",
   "metadata": {},
   "source": [
    "## PERT"
   ]
  },
  {
   "cell_type": "code",
   "execution_count": 79,
   "metadata": {},
   "outputs": [],
   "source": [
    "from collections import deque\n",
    "import numpy as np\n",
    "import scipy.stats as stats\n",
    "from typing import List, Tuple\n",
    "import matplotlib.pyplot as plt"
   ]
  },
  {
   "cell_type": "code",
   "execution_count": 80,
   "metadata": {},
   "outputs": [],
   "source": [
    "def calculateT0(tc, tm, tp):\n",
    "  return (tc + 4 * tm + tp) / 6\n",
    "\n",
    "def calculateVariancy(tp, tc):\n",
    "  return (tp - tc) ** 2 / 36\n",
    "\n",
    "def distribuant(X, mu=0, sigma=1):\n",
    "  return stats.norm.cdf(X, mu, sigma)\n",
    "\n",
    "def inverseDistribuant(P, mu=0, sigma=1):\n",
    "  return stats.norm.ppf(P, mu, sigma)"
   ]
  },
  {
   "cell_type": "code",
   "execution_count": 81,
   "metadata": {},
   "outputs": [],
   "source": [
    "# class Node represents activity in the network\n",
    "class Node:\n",
    "  def __init__(self, name, tc, tm, tp):\n",
    "    self.name = name\n",
    "    self.tc = tc\n",
    "    self.tm = tm\n",
    "    self.tp = tp\n",
    "    self.t0 = calculateT0(tc, tm, tp)\n",
    "    self.variancy = calculateVariancy(tp, tc)\n",
    "    self.predecessors = []\n",
    "    self.neighbors = []\n",
    "    self.z = 0\n",
    "    #earliest and latest start and finish times\n",
    "    self.es = 0\n",
    "    self.ef = 0\n",
    "    self.ls = float('inf')\n",
    "    self.lf = float('inf')\n",
    "    \n",
    "  def addPredecessor(self, node):\n",
    "    self.predecessors.append(node)\n",
    "    \n",
    "  def __repr__(self):\n",
    "    return f'{self.name}'\n",
    "  \n",
    "  def printStartFinish(self):\n",
    "    print(f'{self.name}: {self.es}/{self.ef}/{self.ls}/{self.lf}')"
   ]
  },
  {
   "cell_type": "code",
   "execution_count": 82,
   "metadata": {},
   "outputs": [],
   "source": [
    "class Graph:\n",
    "  def __init__(self, start, end):\n",
    "    self.start = start\n",
    "    self.end = end\n",
    "    self.criticalPath = []\n",
    "    self.completion = None\n",
    "    \n",
    "  def computeEarliest(self):\n",
    "    q = deque()\n",
    "    q.append(self.start)\n",
    "    while q:\n",
    "      node : \"Node\"= q.popleft()\n",
    "      m = 0\n",
    "      for prev in node.predecessors:\n",
    "        if prev.ef > m:\n",
    "          m = prev.ef\n",
    "      node.es = m\n",
    "      node.ef = m + node.t0\n",
    "        \n",
    "      for neighbor in node.neighbors:\n",
    "        q.append(neighbor)\n",
    "        \n",
    "      if node == self.end:\n",
    "        self.completion = node.ef\n",
    "        return self.completion\n",
    "        \n",
    "  def computeLatest(self):\n",
    "    q = deque()\n",
    "    #add to queue node before end\n",
    "    node = self.end\n",
    "    node.z = 0\n",
    "    node.lf = node.ef\n",
    "    node.ls = node.es\n",
    "    for prev in self.end.predecessors:\n",
    "      q.append(prev)\n",
    "    while q:\n",
    "      node = q.popleft()\n",
    "      m = self.completion\n",
    "      for neighbor in node.neighbors:\n",
    "        if neighbor.ls < m:\n",
    "          m = neighbor.ls\n",
    "      node.lf = m\n",
    "      node.ls = m - node.t0\n",
    "      node.z = (node.ls - node.es) \n",
    "      for prev in node.predecessors:\n",
    "        q.append(prev)\n",
    "    \n",
    "  def PERT(self):\n",
    "    self.computeEarliest()\n",
    "    \n",
    "    self.computeLatest()\n",
    "    node = self.start\n",
    "    path = []\n",
    "    def dfs(node):\n",
    "      nonlocal path\n",
    "      if node == self.end:\n",
    "        path.append(node)\n",
    "        if len(path) > len(self.criticalPath):\n",
    "          self.criticalPath = path.copy()\n",
    "        return\n",
    "      if node.z == 0:\n",
    "        path.append(node)\n",
    "        for neighbor in node.neighbors:\n",
    "          dfs(neighbor)\n",
    "        path.pop()\n",
    "\n",
    "          \n",
    "    dfs(self.start)\n",
    "    return self.criticalPath\n",
    "  \n",
    "  def totalVariance(self):\n",
    "    return sum([node.variancy for node in self.criticalPath])\n",
    "  \n",
    "  def drawGanttsChart(self):\n",
    "    pass\n",
    "    \n",
    "    \n",
    "  def computeTime(self, probability):\n",
    "    return inverseDistribuant(probability, self.completion, np.sqrt(self.totalVariance()))"
   ]
  },
  {
   "cell_type": "code",
   "execution_count": 83,
   "metadata": {},
   "outputs": [
    {
     "name": "stdout",
     "output_type": "stream",
     "text": [
      "Ścieżka krytyczna: [0, 2, 5, 7, 9]\n",
      "80.66002569619559\n"
     ]
    }
   ],
   "source": [
    "def main():\n",
    "  # ustalenie czynosci i ich czasu trwania\n",
    "  tasks : List[\"Node\"]= [\n",
    "      Node('0', 13, 14, 15),\n",
    "      Node('1', 5, 10, 15),\n",
    "      Node('2', 7, 10, 19),\n",
    "      Node('3', 2, 2, 2),\n",
    "      Node('4', 10, 10, 10),\n",
    "      Node('5', 20, 21, 22),\n",
    "      Node('6', 4, 16, 16),\n",
    "      Node('7', 5, 20, 23),\n",
    "      Node('8', 5, 8, 11),\n",
    "      Node('9', 12, 12, 12)\n",
    "    ]\n",
    "  #stworzenie grafu\n",
    "  graph = Graph(tasks[0], tasks[-1])\n",
    "  \n",
    "  # dodanie zaleznosci\n",
    "  edges = [(0,1), (0,2), (0,3), (1,4), (2,5),(2,6),(3,6),(4,8), (5,7), (5,8), (6,7), (8,9), (7,9)]\n",
    "  \n",
    "  for prev, next in edges:\n",
    "    tasks[prev].neighbors.append(tasks[next])\n",
    "    tasks[next].addPredecessor(tasks[prev])\n",
    "  \n",
    "  crit = graph.PERT()\n",
    "  print(\"Ścieżka krytyczna:\", crit)\n",
    "  \n",
    "  # for node in tasks:\n",
    "  #   print(f\"{node} : {node.t0}, {node.ls}, {node.lf}\")\n",
    "  print(graph.computeTime(0.9))\n",
    "  graph.drawGanttsChart()\n",
    "main()"
   ]
  },
  {
   "cell_type": "markdown",
   "metadata": {},
   "source": [
    "Do obliczenia prawdopodobieństwa należy naszą dystrybuantę przekształcić do dystrybuanty rozkładu normalnego za pomocą wzoru:\n",
    "\n",
    "\\begin{equation}\n",
    "  F(X) = \\Phi( \\frac{X - \\mu}{\\sigma} ) \n",
    "\\end{equation}\n",
    "\n",
    "gdzie, \n",
    "\n",
    "$X = t_d$ czas dyrektywy,\n",
    "\n",
    "$\\mu = t_r$ to czas modelowy ukończenia projektu, \n",
    "\n",
    "$\\sigma = \\sigma_c$ to odchylenie standardowe.\n",
    "\n",
    "Zatem $ t_d $ jest dane wzorem:\n",
    "\\begin{equation}\n",
    "  t_d = X \\cdot \\sigma_c + t_r\n",
    "\\end{equation}\n",
    "Aby prawdopodobieństwo wynosiło 0.9 to, odczytując z tablic:\n",
    "\\begin{equation}\n",
    "  \\Phi(1.28) = 0.8997 \\approx 0.9\n",
    "\\end{equation}\n",
    "Zatem \n",
    "\\begin{equation}\n",
    "  t_d = 1.28 \\cdot \\sigma_c + t_r\n",
    "\\end{equation}\n"
   ]
  },
  {
   "cell_type": "code",
   "execution_count": 84,
   "metadata": {},
   "outputs": [
    {
     "data": {
      "image/png": "[encoded data removed]",
      "text/plain": [
       "<Figure size 640x480 with 1 Axes>"
      ]
     },
     "metadata": {},
     "output_type": "display_data"
    }
   ],
   "source": [
    "P = 0.9\n",
    "xP = inverseDistribuant(P)\n",
    "x = np.linspace(-5, 5, 1000)\n",
    "y = distribuant(x)\n",
    "plt.plot(x, y)\n",
    "plt.plot([xP, xP], [0, P], 'r--')\n",
    "plt.plot(xP, P, 'ro')\n",
    "plt.annotate(f'({xP:.2f}, {P})', (xP, P), textcoords=\"offset points\", xytext=(0,10), ha='center')\n",
    "plt.ylim(0, 1)\n",
    "plt.title('Dystrybuanta rozkładu normalnego')\n",
    "plt.grid(True)\n",
    "plt.show()"
   ]
  }
 ],
 "metadata": {
  "kernelspec": {
   "display_name": "pyenv",
   "language": "python",
   "name": "python3"
  },
  "language_info": {
   "codemirror_mode": {
    "name": "ipython",
    "version": 3
   },
   "file_extension": ".py",
   "mimetype": "text/x-python",
   "name": "python",
   "nbconvert_exporter": "python",
   "pygments_lexer": "ipython3",
   "version": "3.12.0"
  }
 },
 "nbformat": 4,
 "nbformat_minor": 2
}
