{
 "cells": [
  {
   "cell_type": "markdown",
   "metadata": {},
   "source": [
    "## Programowanie dynamiczne – formalizacja problemów jako zadań PD\n",
    "### Szymon Wysogląd"
   ]
  },
  {
   "cell_type": "markdown",
   "metadata": {},
   "source": [
    "Problemem, który zdecydowałem się opracować to cięcie kija o długości `L` tak aby zmaksymalizować zysk z jego sprzedaży. Każdy kawałek kija ma przypisaną wartość, którą można uzyskać sprzedając go. "
   ]
  },
  {
   "cell_type": "markdown",
   "metadata": {},
   "source": [
    "a) Etap:\n",
    "\n",
    "Każdy etap `i` odpowiada decyzji o cięciu kija na możliwe kawałki o sumarycznej długości $\\sum  \\leq i$.\n",
    "\n",
    "b) Decyzje:\n",
    "\n",
    "Na każdym etapie `j` decyzja polega na wyborze kawałka o długości `j` lub niecięciu kija.\n",
    "\n",
    "c) Stan:\n",
    "\n",
    "Stanem jest długość kija, która pozostała do przecięcia.\n",
    "\n",
    "d) Funkcja kosztu:\n",
    "\n",
    "Funkcja kosztu polega na maksymalizacji zysku z cięcia kija.\n",
    "$$F(L) = \\max$$\n",
    "\n",
    "e) Ograniczenia:\n",
    "\n",
    "Suma długości kawałków nie może przekraczać długości kija oraz cięcie musi być wykonywalne tzn. długość cięcia musi być krótsza niż długość aktualnie rozpatrywanego kija.\n",
    "\n",
    "f) Funkcja przejścia:\n",
    "$$ dp[i] = max_{j \\in Lengths}^i(price[j] + dp[i-j])$$\n",
    "\n",
    "g) Funkcja oceny etapu ostatniego:\n",
    "\n",
    "$$ dp[L]$$\n",
    "gdzie L jest długością kija.\n",
    "\n",
    "h) Funkcja oceny etapu przedostatniego:\n",
    "$$ dp[L - x] = max_{j \\in Lengths}^i(price[j] + dp[i-j])$$"
   ]
  },
  {
   "cell_type": "markdown",
   "metadata": {},
   "source": [
    "### Implementacja"
   ]
  },
  {
   "cell_type": "markdown",
   "metadata": {},
   "source": [
    "Dane:\n",
    "- `L` - długość kija\n",
    "- `lengths` - słownik zawierający pary długość kija - cena"
   ]
  },
  {
   "cell_type": "code",
   "execution_count": 49,
   "metadata": {},
   "outputs": [],
   "source": [
    "from typing import Dict "
   ]
  },
  {
   "cell_type": "code",
   "execution_count": 50,
   "metadata": {},
   "outputs": [],
   "source": [
    "def solve(L : int, lengths : Dict ):\n",
    "  # konstrukcja dwóch tablic, do przechowywania maksymalnej wartości \n",
    "  # funkcji celu oraz wartości przecięcia, aby na koniec możliwe było odtworzenie cięć\n",
    "  dp = [None for _ in range(L+1)]\n",
    "  last = [None for _ in range(L+1)]\n",
    "  # wzięcie minimalnej wartości cięcia, aby wszystko poniżej nie było liczone \n",
    "  minLength = min(lengths.keys())\n",
    "  dp[:minLength] = [0] * minLength\n",
    "  # rekurencyjna funkcja, w której będziemy zapisywali wartości dla każdego etapu w tablicy, w celu nie liczenia ich ponownie\n",
    "  def f(x):\n",
    "    nonlocal dp, L, minLength\n",
    "    if x < minLength or x <= 0:\n",
    "      return 0\n",
    "    # jeżeli wartość nie została jeszce obliczona - oblicz ją\n",
    "    if dp[x] is not None:\n",
    "      return dp[x]\n",
    "    # szukamy maksimum dla długości kija x\n",
    "    maksimum = 0\n",
    "    l = None\n",
    "    # sprawdzamy możliwe cięcia\n",
    "    for length, price in lengths.items():\n",
    "      # jeżeli cięcie jest awykonalne, w przypadku posortowanych lengths można użyc break zamiast continue\n",
    "      if x - length < 0:\n",
    "        continue\n",
    "      sol = f(x - length) + price\n",
    "      if sol > maksimum:\n",
    "        maksimum = sol\n",
    "        l = length\n",
    "    dp[x] = maksimum\n",
    "    last[x] = l\n",
    "    return dp[x]\n",
    "  # zastosowanie funkcji f do wyliczenia maksimum funkcji celu\n",
    "  res = f(L)\n",
    "  # odtworzenie cięć\n",
    "  count = {k : 0 for k in lengths}\n",
    "  x = L\n",
    "  while x >= minLength:\n",
    "    count[last[x]] += 1\n",
    "    x -= last[x]\n",
    "  return res, count"
   ]
  },
  {
   "cell_type": "code",
   "execution_count": 51,
   "metadata": {},
   "outputs": [
    {
     "name": "stdout",
     "output_type": "stream",
     "text": [
      "Rozwiązanie: 56 zł\n",
      "1: 0\n",
      "2: 1\n",
      "3: 0\n",
      "4: 0\n",
      "5: 0\n",
      "6: 3\n",
      "7: 0\n",
      "8: 0\n"
     ]
    }
   ],
   "source": [
    "L = 20\n",
    "lengths = {\n",
    "  1: 2,\n",
    "  2: 5,\n",
    "  3: 8,\n",
    "  4: 9,\n",
    "  5: 10,\n",
    "  6: 17,\n",
    "  7: 17,\n",
    "  8: 20\n",
    "}\n",
    "maksimum, count = solve(L, lengths)\n",
    "print(f'Rozwiązanie: {maksimum} zł')\n",
    "for length, c in count.items():\n",
    "  print(f'{length}: {c}')"
   ]
  }
 ],
 "metadata": {
  "kernelspec": {
   "display_name": "pyenv",
   "language": "python",
   "name": "python3"
  },
  "language_info": {
   "codemirror_mode": {
    "name": "ipython",
    "version": 3
   },
   "file_extension": ".py",
   "mimetype": "text/x-python",
   "name": "python",
   "nbconvert_exporter": "python",
   "pygments_lexer": "ipython3",
   "version": "3.12.0"
  }
 },
 "nbformat": 4,
 "nbformat_minor": 2
}
